{
 "cells": [
  {
   "cell_type": "code",
   "execution_count": 1,
   "metadata": {},
   "outputs": [
    {
     "data": {
      "text/html": [
       "<div class=\"krn-spql\"><div class=\"magic\">Endpoint set to: http://localhost:3030/crypto</div></div>"
      ],
      "text/plain": [
       "Endpoint set to: http://localhost:3030/crypto\n"
      ]
     },
     "metadata": {},
     "output_type": "display_data"
    }
   ],
   "source": [
    "%endpoint http://localhost:3030/crypto"
   ]
  },
  {
   "cell_type": "markdown",
   "metadata": {},
   "source": [
    "# Query 1"
   ]
  },
  {
   "cell_type": "markdown",
   "metadata": {},
   "source": [
    "List all currencies with price above 5000 Euros"
   ]
  },
  {
   "cell_type": "code",
   "execution_count": 2,
   "metadata": {},
   "outputs": [
    {
     "data": {
      "text/html": [
       "<div class=\"krn-spql\"><table><tr class=hdr><th>CurrencyName</th>\n",
       "<th>ID</th>\n",
       "<th>Price</th></tr><tr class=odd><td class=val>renBTC</td>\n",
       "<td class=val>RENBTC</td>\n",
       "<td class=val>19109.75576582</td></tr><tr class=even><td class=val>3X Long Bitcoin Token</td>\n",
       "<td class=val>BTCBULL</td>\n",
       "<td class=val>13938.01559534</td></tr><tr class=odd><td class=val>Wrapped Bitcoin</td>\n",
       "<td class=val>WBTC</td>\n",
       "<td class=val>19215.35361526</td></tr><tr class=even><td class=val>0.5X Long Ethereum Token</td>\n",
       "<td class=val>ETHHALF</td>\n",
       "<td class=val>12163.0</td></tr><tr class=odd><td class=val>tBTC</td>\n",
       "<td class=val>TBTC</td>\n",
       "<td class=val>19074.14023233</td></tr><tr class=even><td class=val>China A50 Token</td>\n",
       "<td class=val>CN50CX</td>\n",
       "<td class=val>16611.0</td></tr><tr class=odd><td class=val>3X Long Tether Token</td>\n",
       "<td class=val>USDTBULL</td>\n",
       "<td class=val>7000.0</td></tr><tr class=even><td class=val>RSK</td>\n",
       "<td class=val>RBTC</td>\n",
       "<td class=val>19085.48293345</td></tr><tr class=odd><td class=val>The Tokenized Bitcoin</td>\n",
       "<td class=val>IMBTC</td>\n",
       "<td class=val>18292.68603561</td></tr><tr class=even><td class=val>Germany 30 Token</td>\n",
       "<td class=val>DE30CX</td>\n",
       "<td class=val>15741.03019538</td></tr></table><div class=\"tinfo\">Total: 10, Shown: 10</div></div>"
      ]
     },
     "metadata": {},
     "output_type": "display_data"
    }
   ],
   "source": [
    "PREFIX xsd:<http://www.w3.org/2001/XMLSchema#>\n",
    "PREFIX crypto:<http://www.semanticweb.org/athira/ontologies/2020/10/cryptocurrency#>\n",
    "SELECT ?CurrencyName ?ID ?Price \n",
    "WHERE { ?Currency crypto:hasPrice ?Price.\n",
    "       Filter(?Price > \"5000.00\"^^xsd:decimal)\n",
    "       ?Currency crypto:hasName ?CurrencyName.\n",
    "       ?Currency crypto:hasID ?ID.\n",
    "              }\n",
    "limit 10"
   ]
  },
  {
   "cell_type": "markdown",
   "metadata": {},
   "source": [
    "# Query 2"
   ]
  },
  {
   "cell_type": "markdown",
   "metadata": {},
   "source": [
    "List all currencies with status active and rank delta value above 0."
   ]
  },
  {
   "cell_type": "code",
   "execution_count": 3,
   "metadata": {},
   "outputs": [
    {
     "data": {
      "text/html": [
       "<div class=\"krn-spql\"><table><tr class=hdr><th>CurrencyName</th>\n",
       "<th>ID</th>\n",
       "<th>RankDelta</th></tr><tr class=odd><td class=val>COCOS BCX</td>\n",
       "<td class=val>COCOS</td>\n",
       "<td class=val>10</td></tr><tr class=even><td class=val>Giant</td>\n",
       "<td class=val>GIC</td>\n",
       "<td class=val>4</td></tr><tr class=odd><td class=val>Origin Sport Token</td>\n",
       "<td class=val>ORS</td>\n",
       "<td class=val>31</td></tr><tr class=even><td class=val>YeaFinance</td>\n",
       "<td class=val>YEA</td>\n",
       "<td class=val>25</td></tr><tr class=odd><td class=val>FinTab</td>\n",
       "<td class=val>FNTB</td>\n",
       "<td class=val>4</td></tr><tr class=even><td class=val>Ethereum Gold Project</td>\n",
       "<td class=val>ETGP</td>\n",
       "<td class=val>8</td></tr><tr class=odd><td class=val>Paypie</td>\n",
       "<td class=val>PPP</td>\n",
       "<td class=val>24</td></tr><tr class=even><td class=val>Bread</td>\n",
       "<td class=val>BRD</td>\n",
       "<td class=val>17</td></tr><tr class=odd><td class=val>1Million Token</td>\n",
       "<td class=val>1MT</td>\n",
       "<td class=val>44</td></tr><tr class=even><td class=val>Utrum</td>\n",
       "<td class=val>OOT</td>\n",
       "<td class=val>37</td></tr><tr class=odd><td class=val>Aion</td>\n",
       "<td class=val>AION</td>\n",
       "<td class=val>6</td></tr><tr class=even><td class=val>Ultragate</td>\n",
       "<td class=val>ULG</td>\n",
       "<td class=val>35</td></tr><tr class=odd><td class=val>Universa Token</td>\n",
       "<td class=val>UTNP</td>\n",
       "<td class=val>10</td></tr><tr class=even><td class=val>Zcash</td>\n",
       "<td class=val>ZEC</td>\n",
       "<td class=val>3</td></tr><tr class=odd><td class=val>Masternet</td>\n",
       "<td class=val>MASH</td>\n",
       "<td class=val>14</td></tr><tr class=even><td class=val>TenX</td>\n",
       "<td class=val>PAY</td>\n",
       "<td class=val>32</td></tr><tr class=odd><td class=val>MicroMoney</td>\n",
       "<td class=val>AMM</td>\n",
       "<td class=val>26</td></tr><tr class=even><td class=val>Ontology</td>\n",
       "<td class=val>ONT</td>\n",
       "<td class=val>1</td></tr><tr class=odd><td class=val>PalletOneToken</td>\n",
       "<td class=val>PTN</td>\n",
       "<td class=val>18</td></tr><tr class=even><td class=val>CTS Coin</td>\n",
       "<td class=val>CTSC</td>\n",
       "<td class=val>52</td></tr></table><div class=\"tinfo\">Total: 677, Shown: 20</div></div>"
      ]
     },
     "metadata": {},
     "output_type": "display_data"
    }
   ],
   "source": [
    "PREFIX xsd:<http://www.w3.org/2001/XMLSchema#>\n",
    "PREFIX crypto:<http://www.semanticweb.org/athira/ontologies/2020/10/cryptocurrency#>\n",
    "SELECT ?CurrencyName ?ID ?RankDelta\n",
    "WHERE {?Status crypto:Status \"active\".\n",
    "               ?Currency crypto:hasStatus ?Status. \n",
    "               ?Currency crypto:rankDelta ?RankDelta.FILTER(?RankDelta > \"0\"^^xsd:integer).\n",
    "                 ?Currency crypto:hasID ?ID.\n",
    "        ?Currency crypto:hasName ?CurrencyName.\n",
    "      }\n"
   ]
  },
  {
   "cell_type": "markdown",
   "metadata": {},
   "source": [
    "# Query 3"
   ]
  },
  {
   "cell_type": "markdown",
   "metadata": {},
   "source": [
    "List all currencies with rank below 20"
   ]
  },
  {
   "cell_type": "code",
   "execution_count": 4,
   "metadata": {},
   "outputs": [
    {
     "data": {
      "text/html": [
       "<div class=\"krn-spql\"><table><tr class=hdr><th>ID</th>\n",
       "<th>CurrencyName</th>\n",
       "<th>Rank</th></tr><tr class=odd><td class=val>LTC</td>\n",
       "<td class=val>Litecoin</td>\n",
       "<td class=val>7</td></tr><tr class=even><td class=val>BSV</td>\n",
       "<td class=val>Bitcoin SV</td>\n",
       "<td class=val>12</td></tr><tr class=odd><td class=val>XRP</td>\n",
       "<td class=val>Ripple</td>\n",
       "<td class=val>3</td></tr><tr class=even><td class=val>XMR</td>\n",
       "<td class=val>Monero</td>\n",
       "<td class=val>17</td></tr><tr class=odd><td class=val>DOT</td>\n",
       "<td class=val>Polkadot</td>\n",
       "<td class=val>8</td></tr><tr class=even><td class=val>EOS</td>\n",
       "<td class=val>EOS</td>\n",
       "<td class=val>13</td></tr><tr class=odd><td class=val>USDT</td>\n",
       "<td class=val>Tether</td>\n",
       "<td class=val>4</td></tr><tr class=even><td class=val>HEX</td>\n",
       "<td class=val>HEX</td>\n",
       "<td class=val>18</td></tr><tr class=odd><td class=val>ADA</td>\n",
       "<td class=val>Cardano</td>\n",
       "<td class=val>9</td></tr><tr class=even><td class=val>USDC</td>\n",
       "<td class=val>USD Coin</td>\n",
       "<td class=val>14</td></tr><tr class=odd><td class=val>BCH</td>\n",
       "<td class=val>Bitcoin Cash</td>\n",
       "<td class=val>5</td></tr><tr class=even><td class=val>XTZ</td>\n",
       "<td class=val>Tezos</td>\n",
       "<td class=val>19</td></tr><tr class=odd><td class=val>BNB</td>\n",
       "<td class=val>Binance Coin</td>\n",
       "<td class=val>10</td></tr><tr class=even><td class=val>BTC</td>\n",
       "<td class=val>Bitcoin</td>\n",
       "<td class=val>1</td></tr><tr class=odd><td class=val>TRX</td>\n",
       "<td class=val>TRON</td>\n",
       "<td class=val>15</td></tr><tr class=even><td class=val>LINK</td>\n",
       "<td class=val>ChainLink</td>\n",
       "<td class=val>6</td></tr><tr class=odd><td class=val>CRO</td>\n",
       "<td class=val>Crypto.com Chain</td>\n",
       "<td class=val>20</td></tr><tr class=even><td class=val>XLM</td>\n",
       "<td class=val>Stellar</td>\n",
       "<td class=val>11</td></tr><tr class=odd><td class=val>ETH</td>\n",
       "<td class=val>Ethereum</td>\n",
       "<td class=val>2</td></tr><tr class=even><td class=val>WBTC</td>\n",
       "<td class=val>Wrapped Bitcoin</td>\n",
       "<td class=val>16</td></tr></table><div class=\"tinfo\">Total: 20, Shown: 20</div></div>"
      ]
     },
     "metadata": {},
     "output_type": "display_data"
    }
   ],
   "source": [
    "PREFIX xsd:<http://www.w3.org/2001/XMLSchema#>\n",
    "PREFIX crypto:<http://www.semanticweb.org/athira/ontologies/2020/10/cryptocurrency#>\n",
    "SELECT ?ID ?CurrencyName ?Rank \n",
    "WHERE {?Currency crypto:rank ?Rank\n",
    "        .FILTER(?Rank <= \"20\"^^xsd:integer)\n",
    "        ?Currency crypto:hasID ?ID.\n",
    "        ?Currency crypto:hasName ?CurrencyName.\n",
    "                         }\n"
   ]
  },
  {
   "cell_type": "markdown",
   "metadata": {},
   "source": [
    "# Query 4"
   ]
  },
  {
   "cell_type": "markdown",
   "metadata": {},
   "source": [
    "List all currencies with number of exchanges above 100"
   ]
  },
  {
   "cell_type": "code",
   "execution_count": 5,
   "metadata": {},
   "outputs": [
    {
     "data": {
      "text/html": [
       "<div class=\"krn-spql\"><table><tr class=hdr><th>ID</th>\n",
       "<th>CurrencyName</th>\n",
       "<th>Exchanges</th></tr><tr class=odd><td class=val>ETC</td>\n",
       "<td class=val>Ethereum Classic</td>\n",
       "<td class=val>144</td></tr><tr class=even><td class=val>USDT</td>\n",
       "<td class=val>Tether</td>\n",
       "<td class=val>288</td></tr><tr class=odd><td class=val>LTC</td>\n",
       "<td class=val>Litecoin</td>\n",
       "<td class=val>300</td></tr><tr class=even><td class=val>MKR</td>\n",
       "<td class=val>Maker</td>\n",
       "<td class=val>101</td></tr><tr class=odd><td class=val>XMR</td>\n",
       "<td class=val>Monero</td>\n",
       "<td class=val>110</td></tr><tr class=even><td class=val>BCH</td>\n",
       "<td class=val>Bitcoin Cash</td>\n",
       "<td class=val>244</td></tr><tr class=odd><td class=val>ETH</td>\n",
       "<td class=val>Ethereum</td>\n",
       "<td class=val>366</td></tr><tr class=even><td class=val>BSV</td>\n",
       "<td class=val>Bitcoin SV</td>\n",
       "<td class=val>126</td></tr><tr class=odd><td class=val>DASH</td>\n",
       "<td class=val>Dash</td>\n",
       "<td class=val>177</td></tr><tr class=even><td class=val>XRP</td>\n",
       "<td class=val>Ripple</td>\n",
       "<td class=val>238</td></tr><tr class=odd><td class=val>BTC</td>\n",
       "<td class=val>Bitcoin</td>\n",
       "<td class=val>372</td></tr><tr class=even><td class=val>XLM</td>\n",
       "<td class=val>Stellar</td>\n",
       "<td class=val>142</td></tr><tr class=odd><td class=val>USDC</td>\n",
       "<td class=val>USD Coin</td>\n",
       "<td class=val>142</td></tr><tr class=even><td class=val>TUSD</td>\n",
       "<td class=val>TrueUSD</td>\n",
       "<td class=val>111</td></tr><tr class=odd><td class=val>NEO</td>\n",
       "<td class=val>NEO</td>\n",
       "<td class=val>111</td></tr><tr class=even><td class=val>BNB</td>\n",
       "<td class=val>Binance Coin</td>\n",
       "<td class=val>105</td></tr><tr class=odd><td class=val>OMG</td>\n",
       "<td class=val>OMG Network</td>\n",
       "<td class=val>169</td></tr><tr class=even><td class=val>ZRX</td>\n",
       "<td class=val>0x</td>\n",
       "<td class=val>155</td></tr><tr class=odd><td class=val>KNC</td>\n",
       "<td class=val>Kyber Network</td>\n",
       "<td class=val>103</td></tr><tr class=even><td class=val>LINK</td>\n",
       "<td class=val>ChainLink</td>\n",
       "<td class=val>168</td></tr></table><div class=\"tinfo\">Total: 26, Shown: 20</div></div>"
      ]
     },
     "metadata": {},
     "output_type": "display_data"
    }
   ],
   "source": [
    "PREFIX xsd:<http://www.w3.org/2001/XMLSchema#>\n",
    "PREFIX crypto:<http://www.semanticweb.org/athira/ontologies/2020/10/cryptocurrency#>\n",
    "\n",
    "SELECT ?ID ?CurrencyName ?Exchanges\n",
    "WHERE {?Currency crypto:num_exchanges ?Exchanges\n",
    ".FILTER(?Exchanges >= \"100\"^^xsd:integer) \n",
    "        ?Currency crypto:hasName ?CurrencyName.\n",
    "       ?Currency crypto:hasID ?ID.\n",
    "       \n",
    "        }"
   ]
  },
  {
   "cell_type": "markdown",
   "metadata": {},
   "source": [
    "# Query 5"
   ]
  },
  {
   "cell_type": "markdown",
   "metadata": {},
   "source": [
    "All market cap, price and volume change in the last 7 days"
   ]
  },
  {
   "cell_type": "code",
   "execution_count": 19,
   "metadata": {},
   "outputs": [
    {
     "data": {
      "text/html": [
       "<div class=\"krn-spql\"><table><tr class=hdr><th>CurrencyName</th>\n",
       "<th>ID</th>\n",
       "<th>PriceChangePercentage</th>\n",
       "<th>MarketCapChangePercentage</th>\n",
       "<th>VolumeChangePercentage</th></tr><tr class=odd><td class=val>eosDAC</td>\n",
       "<td class=val>EOSDAC</td>\n",
       "<td class=val>0.2730</td>\n",
       "<td class=val>0.2730</td>\n",
       "<td class=val>-0.1605</td></tr><tr class=even><td class=val>Ethereum Meta</td>\n",
       "<td class=val>ETHM</td>\n",
       "<td class=val>-0.0074</td>\n",
       "<td class=val>-0.0074</td>\n",
       "<td class=val>0.5751</td></tr><tr class=odd><td class=val>Penta</td>\n",
       "<td class=val>PNT</td>\n",
       "<td class=val>-0.2062</td>\n",
       "<td class=val>-0.2062</td>\n",
       "<td class=val>0.0406</td></tr><tr class=even><td class=val>Bluzelle</td>\n",
       "<td class=val>BLZ</td>\n",
       "<td class=val>0.3381</td>\n",
       "<td class=val>0.3385</td>\n",
       "<td class=val>0.7499</td></tr><tr class=odd><td class=val>Small Love Potion</td>\n",
       "<td class=val>SLP</td>\n",
       "<td class=val>-0.2950</td>\n",
       "<td class=val>-0.2641</td>\n",
       "<td class=val>-0.4493</td></tr><tr class=even><td class=val>Litex</td>\n",
       "<td class=val>LXT</td>\n",
       "<td class=val>0.0600</td>\n",
       "<td class=val>0.0600</td>\n",
       "<td class=val>-0.0242</td></tr><tr class=odd><td class=val>Rentberry</td>\n",
       "<td class=val>BERRY</td>\n",
       "<td class=val>-0.0156</td>\n",
       "<td class=val>-0.0156</td>\n",
       "<td class=val>31.0146</td></tr><tr class=even><td class=val>Arcblock</td>\n",
       "<td class=val>ABT</td>\n",
       "<td class=val>0.1725</td>\n",
       "<td class=val>0.1725</td>\n",
       "<td class=val>0.0740</td></tr><tr class=odd><td class=val>Banano</td>\n",
       "<td class=val>BAN</td>\n",
       "<td class=val>0.1548</td>\n",
       "<td class=val>0.1548</td>\n",
       "<td class=val>0.4123</td></tr><tr class=even><td class=val>Dnotes</td>\n",
       "<td class=val>NOTE</td>\n",
       "<td class=val>0.6869</td>\n",
       "<td class=val>0.6869</td>\n",
       "<td class=val>-0.1381</td></tr><tr class=odd><td class=val>BitKan</td>\n",
       "<td class=val>KAN</td>\n",
       "<td class=val>0.0884</td>\n",
       "<td class=val>0.0884</td>\n",
       "<td class=val>0.0474</td></tr><tr class=even><td class=val>Howdoo</td>\n",
       "<td class=val>UDOO</td>\n",
       "<td class=val>-0.1360</td>\n",
       "<td class=val>-0.1360</td>\n",
       "<td class=val>-0.4997</td></tr><tr class=odd><td class=val>Feathercoin</td>\n",
       "<td class=val>FTC</td>\n",
       "<td class=val>-0.1595</td>\n",
       "<td class=val>-0.1581</td>\n",
       "<td class=val>-0.5947</td></tr><tr class=even><td class=val>OMG Network</td>\n",
       "<td class=val>OMG</td>\n",
       "<td class=val>0.2365</td>\n",
       "<td class=val>0.2365</td>\n",
       "<td class=val>0.0917</td></tr><tr class=odd><td class=val>Pirl</td>\n",
       "<td class=val>PIRL</td>\n",
       "<td class=val>-0.1018</td>\n",
       "<td class=val>-0.0973</td>\n",
       "<td class=val>0.0193</td></tr><tr class=even><td class=val>Band Protocol</td>\n",
       "<td class=val>BAND</td>\n",
       "<td class=val>0.2124</td>\n",
       "<td class=val>0.2124</td>\n",
       "<td class=val>0.5937</td></tr><tr class=odd><td class=val>Beetle Coin</td>\n",
       "<td class=val>BEET</td>\n",
       "<td class=val>-0.0415</td>\n",
       "<td class=val>-0.0386</td>\n",
       "<td class=val>1.1011</td></tr><tr class=even><td class=val>SiaPrime Coin</td>\n",
       "<td class=val>SCP</td>\n",
       "<td class=val>0.7046</td>\n",
       "<td class=val>0.7135</td>\n",
       "<td class=val>-0.1016</td></tr><tr class=odd><td class=val>EOSDT</td>\n",
       "<td class=val>EOSDT</td>\n",
       "<td class=val>-0.0018</td>\n",
       "<td class=val>-0.0018</td>\n",
       "<td class=val>11.6451</td></tr><tr class=even><td class=val>SingularityNET</td>\n",
       "<td class=val>AGI</td>\n",
       "<td class=val>0.1152</td>\n",
       "<td class=val>0.1152</td>\n",
       "<td class=val>0.1637</td></tr></table><div class=\"tinfo\">Total: 1272, Shown: 20</div></div>"
      ]
     },
     "metadata": {},
     "output_type": "display_data"
    }
   ],
   "source": [
    "PREFIX xsd:<http://www.w3.org/2001/XMLSchema#>\n",
    "PREFIX crypto:<http://www.semanticweb.org/athira/ontologies/2020/10/cryptocurrency#>\n",
    "SELECT ?CurrencyName ?ID ?PriceChangePercentage ?MarketCapChangePercentage ?VolumeChangePercentage\n",
    "WHERE { ?Currency crypto:hasPriceChangeIndicators ?PCI.\n",
    "    ?PCI crypto:price_change_Percentage ?PriceChangePercentage.\n",
    "       ?Currency crypto:hasMarketCapChangeIndicators ?MCI.\n",
    "    ?MCI crypto:market_cap_change_Percentage ?MarketCapChangePercentage.\n",
    "      ?Currency crypto:hasVolumeChangeIndicators ?VCI.\n",
    "    ?VCI crypto:volume_change_Percentage ?VolumeChangePercentage.\n",
    "       ?Currency crypto:hasName ?CurrencyName.\n",
    "       ?Currency crypto:hasID ?ID.\n",
    "                \n",
    "              }\n"
   ]
  },
  {
   "cell_type": "code",
   "execution_count": null,
   "metadata": {},
   "outputs": [],
   "source": []
  },
  {
   "cell_type": "code",
   "execution_count": null,
   "metadata": {},
   "outputs": [],
   "source": []
  }
 ],
 "metadata": {
  "kernelspec": {
   "display_name": "SPARQL",
   "language": "sparql",
   "name": "sparql"
  },
  "language_info": {
   "codemirror_mode": {
    "name": "sparql"
   },
   "mimetype": "application/sparql-query",
   "name": "sparql",
   "pygments_lexer": "sparql-nb"
  }
 },
 "nbformat": 4,
 "nbformat_minor": 2
}

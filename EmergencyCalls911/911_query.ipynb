{
 "cells": [
  {
   "cell_type": "code",
   "execution_count": 61,
   "metadata": {},
   "outputs": [
    {
     "data": {
      "text/html": [
       "<div class=\"krn-spql\"><div class=\"magic\">Endpoint set to: http://localhost:3030/911</div></div>"
      ],
      "text/plain": [
       "Endpoint set to: http://localhost:3030/911\n"
      ]
     },
     "metadata": {},
     "output_type": "display_data"
    }
   ],
   "source": [
    "%endpoint http://localhost:3030/911"
   ]
  },
  {
   "cell_type": "markdown",
   "metadata": {},
   "source": [
    "# Query 1"
   ]
  },
  {
   "cell_type": "markdown",
   "metadata": {},
   "source": [
    "All incident numbers of all incidents that happened at 517 3rd Av\n"
   ]
  },
  {
   "cell_type": "code",
   "execution_count": 62,
   "metadata": {},
   "outputs": [
    {
     "data": {
      "text/html": [
       "<div class=\"krn-spql\"><div class=\"magic\">Display: table</div></div>"
      ],
      "text/plain": [
       "Display: table\n"
      ]
     },
     "metadata": {},
     "output_type": "display_data"
    },
    {
     "data": {
      "text/html": [
       "<div class=\"krn-spql\"><table><tr class=hdr><th>Incident</th>\n",
       "<th>Emergency</th></tr><tr class=odd><td class=val><a href=\"http://www.example.com/F200107501\" target=\"_other\">http://www.example.com/F200107501</a></td>\n",
       "<td class=val>Aid Response</td></tr><tr class=even><td class=val><a href=\"http://www.example.com/F200107256\" target=\"_other\">http://www.example.com/F200107256</a></td>\n",
       "<td class=val>Aid Response</td></tr></table><div class=\"tinfo\">Total: 2, Shown: 2</div></div>"
      ]
     },
     "metadata": {},
     "output_type": "display_data"
    }
   ],
   "source": [
    "%display table\n",
    "PREFIX schema: <http://sAll incident numbers of all incidents that happened at 517 3rd Av\n",
    "chema.org/>\n",
    "PREFIX moac: <http://observedchange.com/moac/ns/#>\n",
    "SELECT ?Incident ?Emergency\n",
    "WHERE { ?Incident schema:address \"725 9th Av\".\n",
    "       ?Incident moac:Emergency ?Emergency.\n",
    "      }"
   ]
  },
  {
   "cell_type": "markdown",
   "metadata": {},
   "source": [
    "# Query 2"
   ]
  },
  {
   "cell_type": "code",
   "execution_count": 63,
   "metadata": {},
   "outputs": [
    {
     "data": {
      "text/html": [
       "<div class=\"krn-spql\"><div class=\"krn-error\"><span class=\"title\">Error:</span> SPARQL error: QueryBadFormed: a bad request has been sent to the endpoint, probably the sparql query is bad formed. <br/><br/>Response:<br/>b'Parse error: \\nAll incidents of response type AId response reported between two dates\\nEncountered &quot; &quot;all&quot; &quot;All &quot;&quot; at line 1, column 1.\\nWas expecting one of:\\n    &quot;\\\\ufeff&quot; ...\\n    &quot;base&quot; ...\\n    &quot;prefix&quot; ...\\n    &quot;select&quot; ...\\n    &quot;json&quot; ...\\n    &quot;describe&quot; ...\\n    &quot;construct&quot; ...\\n    &quot;ask&quot; ...\\n    \\n'</div></div>"
      ],
      "text/plain": [
       "Error: SPARQL error: QueryBadFormed: a bad request has been sent to the endpoint, probably the sparql query is bad formed. \n",
       "\n",
       "Response:\n",
       "b'Parse error: \\nAll incidents of response type AId response reported between two dates\\nEncountered \" \"all\" \"All \"\" at line 1, column 1.\\nWas expecting one of:\\n    \"\\\\ufeff\" ...\\n    \"base\" ...\\n    \"prefix\" ...\\n    \"select\" ...\\n    \"json\" ...\\n    \"describe\" ...\\n    \"construct\" ...\\n    \"ask\" ...\\n    \\n'"
      ]
     },
     "metadata": {},
     "output_type": "display_data"
    }
   ],
   "source": [
    "All incidents of response type AId response reported between two dates"
   ]
  },
  {
   "cell_type": "code",
   "execution_count": 64,
   "metadata": {},
   "outputs": [
    {
     "data": {
      "text/html": [
       "<div class=\"krn-spql\"><table><tr class=hdr><th>Incident</th>\n",
       "<th>Date</th></tr><tr class=odd><td class=val><a href=\"http://www.example.com/F200107954\" target=\"_other\">http://www.example.com/F200107954</a></td>\n",
       "<td class=val>2020-10-31T22:04:00.000</td></tr><tr class=even><td class=val><a href=\"http://www.example.com/F200107953\" target=\"_other\">http://www.example.com/F200107953</a></td>\n",
       "<td class=val>2020-10-31T22:03:00.000</td></tr><tr class=odd><td class=val><a href=\"http://www.example.com/F200107951\" target=\"_other\">http://www.example.com/F200107951</a></td>\n",
       "<td class=val>2020-10-31T21:59:00.000</td></tr><tr class=even><td class=val><a href=\"http://www.example.com/F200107952\" target=\"_other\">http://www.example.com/F200107952</a></td>\n",
       "<td class=val>2020-10-31T22:02:00.000</td></tr><tr class=odd><td class=val><a href=\"http://www.example.com/F200107950\" target=\"_other\">http://www.example.com/F200107950</a></td>\n",
       "<td class=val>2020-10-31T21:47:00.000</td></tr><tr class=even><td class=val><a href=\"http://www.example.com/F200107949\" target=\"_other\">http://www.example.com/F200107949</a></td>\n",
       "<td class=val>2020-10-31T21:39:00.000</td></tr></table><div class=\"tinfo\">Total: 6, Shown: 6</div></div>"
      ]
     },
     "metadata": {},
     "output_type": "display_data"
    }
   ],
   "source": [
    "PREFIX schema: <http://schema.org/>\n",
    "PREFIX xsd: <http://www.w3.org/2001/XMLSchema#>\n",
    "PREFIX moac: <http://observedchange.com/moac/ns/#>\n",
    "SELECT ?Incident ?Date\n",
    "WHERE { ?Incident schema:DateTime ?Date.\n",
    "       FILTER(?Date >= \"2020-10-31T21:35:00.000\"^^xsd:dateTime\n",
    "       && ?Date <= \"2020-10-31T22:35:00.000\"^^xsd:dateTime)\n",
    "        ?Incident moac:Emergency \"Aid Response\".\n",
    "      }\n",
    "LIMIT 10\n"
   ]
  },
  {
   "cell_type": "markdown",
   "metadata": {},
   "source": [
    "# Query 3"
   ]
  },
  {
   "cell_type": "markdown",
   "metadata": {},
   "source": [
    "All response types of incidents that happened in place with longitude \"-122.318034\""
   ]
  },
  {
   "cell_type": "code",
   "execution_count": 65,
   "metadata": {},
   "outputs": [
    {
     "data": {
      "text/html": [
       "<div class=\"krn-spql\"><table><tr class=hdr><th>Incident</th>\n",
       "<th>Emergency</th>\n",
       "<th>Address</th></tr><tr class=odd><td class=val><a href=\"http://www.example.com/F200107953\" target=\"_other\">http://www.example.com/F200107953</a></td>\n",
       "<td class=val>Aid Response</td>\n",
       "<td class=val>1105 E Fir St</td></tr></table><div class=\"tinfo\">Total: 1, Shown: 1</div></div>"
      ]
     },
     "metadata": {},
     "output_type": "display_data"
    }
   ],
   "source": [
    "PREFIX schema: <http://schema.org/>\n",
    "PREFIX xsd: <http://www.w3.org/2001/XMLSchema#>\n",
    "PREFIX moac: <http://observedchange.com/moac/ns/#>\n",
    "SELECT ?Incident ?Emergency ?Address \n",
    "WHERE {?Incident schema:longitude \"-122.318034\".\n",
    "       ?Incident schema:address ?Address.\n",
    "       ?Incident moac:Emergency ?Emergency.\n",
    "      }\n"
   ]
  },
  {
   "cell_type": "markdown",
   "metadata": {},
   "source": [
    "# Query 4"
   ]
  },
  {
   "cell_type": "code",
   "execution_count": 66,
   "metadata": {},
   "outputs": [
    {
     "data": {
      "text/html": [
       "<div class=\"krn-spql\"><table><tr class=hdr><th>Incident</th>\n",
       "<th>Emergency</th></tr><tr class=odd><td class=val><a href=\"http://www.example.com/F200107256\" target=\"_other\">http://www.example.com/F200107256</a></td>\n",
       "<td class=val>Aid Response</td></tr><tr class=even><td class=val><a href=\"http://www.example.com/F200107501\" target=\"_other\">http://www.example.com/F200107501</a></td>\n",
       "<td class=val>Aid Response</td></tr></table><div class=\"tinfo\">Total: 2, Shown: 2</div></div>"
      ]
     },
     "metadata": {},
     "output_type": "display_data"
    }
   ],
   "source": [
    "PREFIX schema: <http://schema.org/>\n",
    "PREFIX ex: <http://www.example.com/>\n",
    "PREFIX moac: <http://observedchange.com/moac/ns/#>\n",
    "SELECT ?Incident ?Emergency\n",
    "WHERE {?Report schema:GeoShape  \"-122.325563\".\n",
    "        ?Report schema:GeoShape \"47.606444\".\n",
    "       ?Incident ex:hasReportLocation ?Report.\n",
    "      ?Incident moac:Emergency ?Emergency.\n",
    "      }\n"
   ]
  },
  {
   "cell_type": "markdown",
   "metadata": {},
   "source": [
    "# Query 5"
   ]
  },
  {
   "cell_type": "code",
   "execution_count": null,
   "metadata": {},
   "outputs": [],
   "source": []
  },
  {
   "cell_type": "code",
   "execution_count": null,
   "metadata": {},
   "outputs": [],
   "source": []
  },
  {
   "cell_type": "code",
   "execution_count": null,
   "metadata": {},
   "outputs": [],
   "source": []
  }
 ],
 "metadata": {
  "kernelspec": {
   "display_name": "SPARQL",
   "language": "sparql",
   "name": "sparql"
  },
  "language_info": {
   "codemirror_mode": {
    "name": "sparql"
   },
   "mimetype": "application/sparql-query",
   "name": "sparql",
   "pygments_lexer": "sparql-nb"
  }
 },
 "nbformat": 4,
 "nbformat_minor": 4
}

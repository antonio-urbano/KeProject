{
 "cells": [
  {
   "cell_type": "code",
   "execution_count": 1,
   "metadata": {},
   "outputs": [
    {
     "data": {
      "text/html": [
       "<div class=\"krn-spql\"><div class=\"magic\">Endpoint set to: http://localhost:3030/covids</div></div>"
      ],
      "text/plain": [
       "Endpoint set to: http://localhost:3030/covids\n"
      ]
     },
     "metadata": {},
     "output_type": "display_data"
    }
   ],
   "source": [
    "%endpoint http://localhost:3030/covids"
   ]
  },
  {
   "cell_type": "markdown",
   "metadata": {},
   "source": [
    "### Query1\n",
    "All the places in which there is at least 1 new ventilator"
   ]
  },
  {
   "cell_type": "code",
   "execution_count": 4,
   "metadata": {},
   "outputs": [
    {
     "data": {
      "text/html": [
       "<div class=\"krn-spql\"><div class=\"magic\">Display: table<br/>Show Types: on</div></div>"
      ],
      "text/plain": [
       "Display: table\n",
       "Show Types: on\n"
      ]
     },
     "metadata": {},
     "output_type": "display_data"
    },
    {
     "data": {
      "text/html": [
       "<div class=\"krn-spql\"><div class=\"krn-error\"><span class=\"title\">Error:</span> Query processing error: &lt;urlopen error [Errno 99] Cannot assign requested address&gt;</div></div>"
      ],
      "text/plain": [
       "Error: Query processing error: <urlopen error [Errno 99] Cannot assign requested address>"
      ]
     },
     "metadata": {},
     "output_type": "display_data"
    }
   ],
   "source": [
    "%display table withtypes\n",
    "SELECT ?statistics\n",
    "WHERE { ?statistics a <http://example.org/covid/CovidStatistics>}"
   ]
  },
  {
   "cell_type": "code",
   "execution_count": 5,
   "metadata": {},
   "outputs": [
    {
     "data": {
      "text/html": [
       "<div class=\"krn-spql\"><div class=\"magic\">Display: table<br/>Show Types: on</div></div>"
      ],
      "text/plain": [
       "Display: table\n",
       "Show Types: on\n"
      ]
     },
     "metadata": {},
     "output_type": "display_data"
    },
    {
     "data": {
      "text/html": [
       "<div class=\"krn-spql\"><div class=\"krn-error\"><span class=\"title\">Error:</span> Query processing error: &lt;urlopen error [Errno 99] Cannot assign requested address&gt;</div></div>"
      ],
      "text/plain": [
       "Error: Query processing error: <urlopen error [Errno 99] Cannot assign requested address>"
      ]
     },
     "metadata": {},
     "output_type": "display_data"
    }
   ],
   "source": [
    "%display table withtypes\n",
    "PREFIX schema: <http://schema.org/>\n",
    "PREFIX covid:  <http://example.org/covid/>\n",
    "PREFIX xsd: <http://www.w3.org/2001/XMLSchema#>\n",
    "\n",
    "SELECT ?place (?nv AS ?New_ventilator) (STR(?date) AS ?Date)\n",
    "WHERE{ ?place a schema:Place.\n",
    "        ?statistics covid:statisticsOf ?place.\n",
    "        ?statistics covid:date ?date.\n",
    "        ?statistics a covid:CovidStatistics.\n",
    "        ?statistics covid:new_ventilator ?nv.\n",
    "        FILTER(?nv > \"0\"^^xsd:integer).\n",
    "     }"
   ]
  },
  {
   "cell_type": "markdown",
   "metadata": {},
   "source": [
    "### Query 2\n",
    "The average temperature and humidity of the subregion2 or locality in which the new confirmed>2000"
   ]
  },
  {
   "cell_type": "code",
   "execution_count": 7,
   "metadata": {},
   "outputs": [
    {
     "data": {
      "text/html": [
       "<div class=\"krn-spql\"><div class=\"magic\">Display: table<br/>Show Types: on</div></div>"
      ],
      "text/plain": [
       "Display: table\n",
       "Show Types: on\n"
      ]
     },
     "metadata": {},
     "output_type": "display_data"
    },
    {
     "data": {
      "text/html": [
       "<div class=\"krn-spql\"><div class=\"krn-error\"><span class=\"title\">Error:</span> Query processing error: &lt;urlopen error [Errno 99] Cannot assign requested address&gt;</div></div>"
      ],
      "text/plain": [
       "Error: Query processing error: <urlopen error [Errno 99] Cannot assign requested address>"
      ]
     },
     "metadata": {},
     "output_type": "display_data"
    }
   ],
   "source": [
    "%display table withtypes\n",
    "PREFIX schema: <http://schema.org/>\n",
    "PREFIX covid:  <http://example.org/covid/>\n",
    "PREFIX xsd: <http://www.w3.org/2001/XMLSchema#>\n",
    "\n",
    "SELECT ?avg_temp ?humidity (STR(?date) AS ?Date) ?place ?new_confirmed\n",
    "WHERE{ ?weather a covid:WeatherStatistics.\n",
    "        ?weather covid:avg_temp ?avg_temp.\n",
    "        ?weather covid:humidity ?humidity.\n",
    "        ?weather covid:weatherOf ?place.\n",
    "        ?weather covid:date ?date.\n",
    "        ?place a schema:Place.\n",
    "        ?statistics covid:statisticsOf ?place.\n",
    "        ?statistics covid:date ?date.\n",
    "        ?statistics covid:aggregationLevel ?al.\n",
    "        ?statistics covid:new_confirmed ?new_confirmed.\n",
    "        FILTER (?new_confirmed > \"2000\"^^xsd:integer).\n",
    "        FILTER (?al >= \"2\"^^xsd:integer).\n",
    "     }"
   ]
  },
  {
   "cell_type": "markdown",
   "metadata": {},
   "source": [
    "### Query 3\n",
    "The new deceased of the USA subregion2 having a population > 1000000 people"
   ]
  },
  {
   "cell_type": "code",
   "execution_count": 8,
   "metadata": {},
   "outputs": [
    {
     "data": {
      "text/html": [
       "<div class=\"krn-spql\"><div class=\"magic\">Display: table<br/>Show Types: on</div></div>"
      ],
      "text/plain": [
       "Display: table\n",
       "Show Types: on\n"
      ]
     },
     "metadata": {},
     "output_type": "display_data"
    },
    {
     "data": {
      "text/html": [
       "<div class=\"krn-spql\"><div class=\"krn-error\"><span class=\"title\">Error:</span> Query processing error: &lt;urlopen error [Errno 99] Cannot assign requested address&gt;</div></div>"
      ],
      "text/plain": [
       "Error: Query processing error: <urlopen error [Errno 99] Cannot assign requested address>"
      ]
     },
     "metadata": {},
     "output_type": "display_data"
    }
   ],
   "source": [
    "%display table withtypes\n",
    "PREFIX schema: <http://schema.org/>\n",
    "PREFIX covid:  <http://example.org/covid/>\n",
    "PREFIX xsd: <http://www.w3.org/2001/XMLSchema#>\n",
    "\n",
    "SELECT ?subregion2 ?new_deceased (STR(?date) AS ?Date) ?population\n",
    "WHERE{ ?subregion2 a schema:Place.\n",
    "        ?subregion2 schema:name ?region_name.\n",
    "        ?statistics covid:statisticsOf ?subregion2.\n",
    "        ?statistics covid:aggregationLevel \"2\"^^<http://www.w3.org/2001/XMLSchema#integer>.\n",
    "        ?statistics covid:new_deceased ?new_deceased.\n",
    "        ?statistics covid:date ?date.\n",
    "        ?subregion2 covid:population ?population.\n",
    "        FILTER (?population > \"1000000\"^^xsd:integer).\n",
    "        FILTER regex(?region_name, \"^United States of America \").\n",
    "     }"
   ]
  },
  {
   "cell_type": "markdown",
   "metadata": {},
   "source": [
    "### Query 4\n",
    "All the countries having a number of total confirmed > 2 mln"
   ]
  },
  {
   "cell_type": "code",
   "execution_count": 9,
   "metadata": {},
   "outputs": [
    {
     "data": {
      "text/html": [
       "<div class=\"krn-spql\"><div class=\"magic\">Display: table<br/>Show Types: on</div></div>"
      ],
      "text/plain": [
       "Display: table\n",
       "Show Types: on\n"
      ]
     },
     "metadata": {},
     "output_type": "display_data"
    },
    {
     "data": {
      "text/html": [
       "<div class=\"krn-spql\"><div class=\"krn-error\"><span class=\"title\">Error:</span> Query processing error: &lt;urlopen error [Errno 99] Cannot assign requested address&gt;</div></div>"
      ],
      "text/plain": [
       "Error: Query processing error: <urlopen error [Errno 99] Cannot assign requested address>"
      ]
     },
     "metadata": {},
     "output_type": "display_data"
    }
   ],
   "source": [
    "%display table withtypes\n",
    "PREFIX schema: <http://schema.org/>\n",
    "PREFIX covid:  <http://example.org/covid/>\n",
    "PREFIX xsd: <http://www.w3.org/2001/XMLSchema#>\n",
    "\n",
    "SELECT ?country ?total_confirmed (STR(?date) AS ?Date)\n",
    "WHERE{ ?country a schema:Place.\n",
    "        ?statistics covid:statisticsOf ?country.\n",
    "        ?statistics covid:date ?date.\n",
    "        ?statistics covid:aggregationLevel \"0\"^^xsd:integer>.\n",
    "        ?statistics covid:total_confirmed ?total_confirmed.\n",
    "        FILTER (?total_confirmed > \"2000000\"^^xsd:integer>).\n",
    "     }"
   ]
  },
  {
   "cell_type": "markdown",
   "metadata": {},
   "source": [
    "### Query 5\n",
    "New deceased, new confirmed and new recovered of all the countries having a min temp<-10° or a max temp>+35°\n"
   ]
  },
  {
   "cell_type": "code",
   "execution_count": 10,
   "metadata": {},
   "outputs": [
    {
     "data": {
      "text/html": [
       "<div class=\"krn-spql\"><div class=\"magic\">Display: table<br/>Show Types: on</div></div>"
      ],
      "text/plain": [
       "Display: table\n",
       "Show Types: on\n"
      ]
     },
     "metadata": {},
     "output_type": "display_data"
    },
    {
     "data": {
      "text/html": [
       "<div class=\"krn-spql\"><div class=\"krn-error\"><span class=\"title\">Error:</span> Query processing error: &lt;urlopen error [Errno 99] Cannot assign requested address&gt;</div></div>"
      ],
      "text/plain": [
       "Error: Query processing error: <urlopen error [Errno 99] Cannot assign requested address>"
      ]
     },
     "metadata": {},
     "output_type": "display_data"
    }
   ],
   "source": [
    "%display table withtypes\n",
    "PREFIX schema: <http://schema.org/>\n",
    "PREFIX covid:  <http://example.org/covid/>\n",
    "PREFIX xsd: <http://www.w3.org/2001/XMLSchema#>\n",
    "\n",
    "\n",
    "SELECT ?country ?new_deceased ?new_confirmed ?new_recovered (STR(?date) AS ?Date) ?max_temp ?min_temp\n",
    "WHERE{ ?country a schema:Place.\n",
    "        ?statistics covid:statisticsOf ?country.\n",
    "        ?statistics covid:aggregationLevel \"0\"^^xsd:integer.\n",
    "        ?statistics covid:new_deceased ?new_deceased.\n",
    "        ?statistics covid:new_confirmed ?new_confirmed.\n",
    "        ?statistics covid:new_recovered ?new_recovered.\n",
    "        ?statistics covid:date ?date.\n",
    "        ?weather covid:weatherOf ?country.\n",
    "        ?weather covid:date ?date.\n",
    "        ?weather covid:min_temp ?min_temp.\n",
    "        ?weather covid:max_temp ?max_temp.\n",
    "        FILTER (?max_temp > \"35\"^^xsd:decimal> || ?min_temp < \"-10\"^^xsd:decimal>).\n",
    "     }\n"
   ]
  },
  {
   "cell_type": "code",
   "execution_count": null,
   "metadata": {},
   "outputs": [],
   "source": []
  }
 ],
 "metadata": {
  "kernelspec": {
   "display_name": "SPARQL",
   "language": "sparql",
   "name": "sparql"
  },
  "language_info": {
   "codemirror_mode": {
    "name": "sparql"
   },
   "mimetype": "application/sparql-query",
   "name": "sparql",
   "pygments_lexer": "sparql-nb"
  }
 },
 "nbformat": 4,
 "nbformat_minor": 2
}

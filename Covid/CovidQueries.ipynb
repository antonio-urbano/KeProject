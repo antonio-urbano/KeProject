{
 "cells": [
  {
   "cell_type": "code",
   "execution_count": 1,
   "metadata": {},
   "outputs": [
    {
     "data": {
      "text/html": [
       "<div class=\"krn-spql\"><div class=\"magic\">Endpoint set to: http://host.docker.internal:3030/covid</div></div>"
      ],
      "text/plain": [
       "Endpoint set to: http://host.docker.internal:3030/covid\n"
      ]
     },
     "metadata": {},
     "output_type": "display_data"
    }
   ],
   "source": [
    "%endpoint http://host.docker.internal:3030/covid"
   ]
  },
  {
   "cell_type": "markdown",
   "metadata": {},
   "source": [
    "### Query1\n",
    "All the places in which there is at least 1 new ventilator"
   ]
  },
  {
   "cell_type": "code",
   "execution_count": 2,
   "metadata": {},
   "outputs": [
    {
     "data": {
      "text/html": [
       "<div class=\"krn-spql\"><div class=\"magic\">Display: table<br/>Show Types: on</div></div>"
      ],
      "text/plain": [
       "Display: table\n",
       "Show Types: on\n"
      ]
     },
     "metadata": {},
     "output_type": "display_data"
    },
    {
     "data": {
      "text/html": [
       "<div class=\"krn-spql\"><table><tr class=hdr><th>place</th><th>type</th>\n",
       "<th>New_ventilator</th><th>type</th>\n",
       "<th>Date</th><th>type</th></tr><tr class=odd><td class=val><a href=\"https://schema.org/Place/US_AR\" target=\"_other\">https://schema.org/Place/US_AR</a></td><td class=typ>uri</td>\n",
       "<td class=val>9</td><td class=typ>literal, none</td>\n",
       "<td class=val>2020-11-21</td><td class=typ>literal, none</td></tr><tr class=even><td class=val><a href=\"https://schema.org/Place/US_AL\" target=\"_other\">https://schema.org/Place/US_AL</a></td><td class=typ>uri</td>\n",
       "<td class=val>12</td><td class=typ>literal, none</td>\n",
       "<td class=val>2020-11-21</td><td class=typ>literal, none</td></tr></table><div class=\"tinfo\">Total: 2, Shown: 2</div></div>"
      ]
     },
     "metadata": {},
     "output_type": "display_data"
    }
   ],
   "source": [
    "%display table withtypes\n",
    "PREFIX schema: <https://schema.org/>\n",
    "PREFIX covid:  <http://www.example.org/covid/>\n",
    "PREFIX xsd: <http://www.w3.org/2001/XMLSchema#>\n",
    "\n",
    "SELECT ?place (?nv AS ?New_ventilator) (STR(?date) AS ?Date)\n",
    "WHERE{ ?place a schema:Place.\n",
    "        ?statistics covid:statisticsOf ?place.\n",
    "        ?statistics covid:date ?date.\n",
    "        ?statistics a covid:CovidStatistics.\n",
    "        ?statistics covid:new_ventilator ?nv.\n",
    "        FILTER(?nv > \"0\"^^xsd:integer).\n",
    "     }"
   ]
  },
  {
   "cell_type": "markdown",
   "metadata": {},
   "source": [
    "### Query 2\n",
    "The average temperature and humidity of the subregion2 or locality in which the new confirmed>2000"
   ]
  },
  {
   "cell_type": "code",
   "execution_count": 3,
   "metadata": {},
   "outputs": [
    {
     "data": {
      "text/html": [
       "<div class=\"krn-spql\"><div class=\"magic\">Display: table<br/>Show Types: on</div></div>"
      ],
      "text/plain": [
       "Display: table\n",
       "Show Types: on\n"
      ]
     },
     "metadata": {},
     "output_type": "display_data"
    },
    {
     "data": {
      "text/html": [
       "<div class=\"krn-spql\"><table><tr class=hdr><th>avg_temp</th><th>type</th>\n",
       "<th>humidity</th><th>type</th>\n",
       "<th>Date</th><th>type</th>\n",
       "<th>place</th><th>type</th>\n",
       "<th>new_confirmed</th><th>type</th></tr><tr class=odd><td class=val>10.072222</td><td class=typ>literal, none</td>\n",
       "<td class=val>88.180701</td><td class=typ>literal, none</td>\n",
       "<td class=val>2020-11-21</td><td class=typ>literal, none</td>\n",
       "<td class=val><a href=\"https://schema.org/Place/IT_25_MI\" target=\"_other\">https://schema.org/Place/IT_25_MI</a></td><td class=typ>uri</td>\n",
       "<td class=val>2928</td><td class=typ>literal, none</td></tr><tr class=even><td class=val>9.135802</td><td class=typ>literal, none</td>\n",
       "<td class=val>81.432687</td><td class=typ>literal, none</td>\n",
       "<td class=val>2020-11-21</td><td class=typ>literal, none</td>\n",
       "<td class=val><a href=\"https://schema.org/Place/IT_21_TO\" target=\"_other\">https://schema.org/Place/IT_21_TO</a></td><td class=typ>uri</td>\n",
       "<td class=val>2543</td><td class=typ>literal, none</td></tr><tr class=odd><td class=val>13.811111</td><td class=typ>literal, none</td>\n",
       "<td class=val>85.827757</td><td class=typ>literal, none</td>\n",
       "<td class=val>2020-11-21</td><td class=typ>literal, none</td>\n",
       "<td class=val><a href=\"https://schema.org/Place/ES_MD_MAD\" target=\"_other\">https://schema.org/Place/ES_MD_MAD</a></td><td class=typ>uri</td>\n",
       "<td class=val>5205</td><td class=typ>literal, none</td></tr><tr class=even><td class=val>9.333333</td><td class=typ>literal, none</td>\n",
       "<td class=val>59.593045</td><td class=typ>literal, none</td>\n",
       "<td class=val>2020-12-01</td><td class=typ>literal, none</td>\n",
       "<td class=val><a href=\"https://schema.org/Place/US_NY_NYC\" target=\"_other\">https://schema.org/Place/US_NY_NYC</a></td><td class=typ>uri</td>\n",
       "<td class=val>2558</td><td class=typ>literal, none</td></tr><tr class=odd><td class=val>16.433333</td><td class=typ>literal, none</td>\n",
       "<td class=val>56.810241</td><td class=typ>literal, none</td>\n",
       "<td class=val>2020-12-01</td><td class=typ>literal, none</td>\n",
       "<td class=val><a href=\"https://schema.org/Place/US_CA_06037\" target=\"_other\">https://schema.org/Place/US_CA_06037</a></td><td class=typ>uri</td>\n",
       "<td class=val>4953</td><td class=typ>literal, none</td></tr><tr class=even><td class=val>16.8</td><td class=typ>literal, none</td>\n",
       "<td class=val>90.003524</td><td class=typ>literal, none</td>\n",
       "<td class=val>2020-11-21</td><td class=typ>literal, none</td>\n",
       "<td class=val><a href=\"https://schema.org/Place/IT_62_RM\" target=\"_other\">https://schema.org/Place/IT_62_RM</a></td><td class=typ>uri</td>\n",
       "<td class=val>2510</td><td class=typ>literal, none</td></tr></table><div class=\"tinfo\">Total: 6, Shown: 6</div></div>"
      ]
     },
     "metadata": {},
     "output_type": "display_data"
    }
   ],
   "source": [
    "%display table withtypes\n",
    "PREFIX schema: <https://schema.org/>\n",
    "PREFIX covid:  <http://www.example.org/covid/>\n",
    "PREFIX xsd: <http://www.w3.org/2001/XMLSchema#>\n",
    "\n",
    "SELECT ?avg_temp ?humidity (STR(?date) AS ?Date) ?place ?new_confirmed\n",
    "WHERE{ ?weather a covid:WeatherStatistics.\n",
    "        ?weather covid:avg_temp ?avg_temp.\n",
    "        ?weather covid:humidity ?humidity.\n",
    "        ?weather covid:weatherOf ?place.\n",
    "        ?weather covid:date ?date.\n",
    "        ?place a schema:Place.\n",
    "        ?statistics covid:statisticsOf ?place.\n",
    "        ?statistics covid:date ?date.\n",
    "        ?place covid:aggregationLevel ?al.\n",
    "        ?statistics covid:new_confirmed ?new_confirmed.\n",
    "        FILTER (?new_confirmed > \"2000\"^^xsd:integer).\n",
    "        FILTER (?al >= \"2\"^^xsd:integer).\n",
    "     }"
   ]
  },
  {
   "cell_type": "markdown",
   "metadata": {},
   "source": [
    "### Query 3\n",
    "The new deceased of the USA subregion2 having a population > 1000000 people"
   ]
  },
  {
   "cell_type": "code",
   "execution_count": 4,
   "metadata": {},
   "outputs": [
    {
     "data": {
      "text/html": [
       "<div class=\"krn-spql\"><div class=\"magic\">Display: table<br/>Show Types: on</div></div>"
      ],
      "text/plain": [
       "Display: table\n",
       "Show Types: on\n"
      ]
     },
     "metadata": {},
     "output_type": "display_data"
    },
    {
     "data": {
      "text/html": [
       "<div class=\"krn-spql\"><table><tr class=hdr><th>subregion2</th><th>type</th>\n",
       "<th>new_deceased</th><th>type</th>\n",
       "<th>Date</th><th>type</th>\n",
       "<th>population</th><th>type</th></tr><tr class=odd><td class=val><a href=\"https://schema.org/Place/US_MI_26125\" target=\"_other\">https://schema.org/Place/US_MI_26125</a></td><td class=typ>uri</td>\n",
       "<td class=val>0</td><td class=typ>literal, none</td>\n",
       "<td class=val>2020-12-01</td><td class=typ>literal, none</td>\n",
       "<td class=val>1256016</td><td class=typ>literal, none</td></tr><tr class=even><td class=val><a href=\"https://schema.org/Place/US_FL_12057\" target=\"_other\">https://schema.org/Place/US_FL_12057</a></td><td class=typ>uri</td>\n",
       "<td class=val>6</td><td class=typ>literal, none</td>\n",
       "<td class=val>2020-12-01</td><td class=typ>literal, none</td>\n",
       "<td class=val>1426736</td><td class=typ>literal, none</td></tr><tr class=odd><td class=val><a href=\"https://schema.org/Place/US_MA_25017\" target=\"_other\">https://schema.org/Place/US_MA_25017</a></td><td class=typ>uri</td>\n",
       "<td class=val>9</td><td class=typ>literal, none</td>\n",
       "<td class=val>2020-12-01</td><td class=typ>literal, none</td>\n",
       "<td class=val>1603943</td><td class=typ>literal, none</td></tr><tr class=even><td class=val><a href=\"https://schema.org/Place/US_CA_06037\" target=\"_other\">https://schema.org/Place/US_CA_06037</a></td><td class=typ>uri</td>\n",
       "<td class=val>16</td><td class=typ>literal, none</td>\n",
       "<td class=val>2020-12-01</td><td class=typ>literal, none</td>\n",
       "<td class=val>10103711</td><td class=typ>literal, none</td></tr><tr class=odd><td class=val><a href=\"https://schema.org/Place/US_CA_06065\" target=\"_other\">https://schema.org/Place/US_CA_06065</a></td><td class=typ>uri</td>\n",
       "<td class=val>0</td><td class=typ>literal, none</td>\n",
       "<td class=val>2020-12-01</td><td class=typ>literal, none</td>\n",
       "<td class=val>2414964</td><td class=typ>literal, none</td></tr><tr class=even><td class=val><a href=\"https://schema.org/Place/US_CA_06059\" target=\"_other\">https://schema.org/Place/US_CA_06059</a></td><td class=typ>uri</td>\n",
       "<td class=val>0</td><td class=typ>literal, none</td>\n",
       "<td class=val>2020-12-01</td><td class=typ>literal, none</td>\n",
       "<td class=val>3174289</td><td class=typ>literal, none</td></tr><tr class=odd><td class=val><a href=\"https://schema.org/Place/US_CA_06073\" target=\"_other\">https://schema.org/Place/US_CA_06073</a></td><td class=typ>uri</td>\n",
       "<td class=val>0</td><td class=typ>literal, none</td>\n",
       "<td class=val>2020-12-01</td><td class=typ>literal, none</td>\n",
       "<td class=val>3321237</td><td class=typ>literal, none</td></tr><tr class=even><td class=val><a href=\"https://schema.org/Place/US_NY_36061\" target=\"_other\">https://schema.org/Place/US_NY_36061</a></td><td class=typ>uri</td>\n",
       "<td class=val>0</td><td class=typ>literal, none</td>\n",
       "<td class=val>2020-12-01</td><td class=typ>literal, none</td>\n",
       "<td class=val>1630698</td><td class=typ>literal, none</td></tr><tr class=odd><td class=val><a href=\"https://schema.org/Place/US_NY_36103\" target=\"_other\">https://schema.org/Place/US_NY_36103</a></td><td class=typ>uri</td>\n",
       "<td class=val>2</td><td class=typ>literal, none</td>\n",
       "<td class=val>2020-12-01</td><td class=typ>literal, none</td>\n",
       "<td class=val>1483358</td><td class=typ>literal, none</td></tr><tr class=even><td class=val><a href=\"https://schema.org/Place/US_NC_37119\" target=\"_other\">https://schema.org/Place/US_NC_37119</a></td><td class=typ>uri</td>\n",
       "<td class=val>9</td><td class=typ>literal, none</td>\n",
       "<td class=val>2020-12-01</td><td class=typ>literal, none</td>\n",
       "<td class=val>1078128</td><td class=typ>literal, none</td></tr><tr class=odd><td class=val><a href=\"https://schema.org/Place/US_NY_36059\" target=\"_other\">https://schema.org/Place/US_NY_36059</a></td><td class=typ>uri</td>\n",
       "<td class=val>5</td><td class=typ>literal, none</td>\n",
       "<td class=val>2020-12-01</td><td class=typ>literal, none</td>\n",
       "<td class=val>1357293</td><td class=typ>literal, none</td></tr><tr class=even><td class=val><a href=\"https://schema.org/Place/US_NY_36005\" target=\"_other\">https://schema.org/Place/US_NY_36005</a></td><td class=typ>uri</td>\n",
       "<td class=val>1</td><td class=typ>literal, none</td>\n",
       "<td class=val>2020-12-01</td><td class=typ>literal, none</td>\n",
       "<td class=val>1440625</td><td class=typ>literal, none</td></tr><tr class=odd><td class=val><a href=\"https://schema.org/Place/US_NY_36081\" target=\"_other\">https://schema.org/Place/US_NY_36081</a></td><td class=typ>uri</td>\n",
       "<td class=val>4</td><td class=typ>literal, none</td>\n",
       "<td class=val>2020-12-01</td><td class=typ>literal, none</td>\n",
       "<td class=val>2295808</td><td class=typ>literal, none</td></tr><tr class=even><td class=val><a href=\"https://schema.org/Place/US_CA_06067\" target=\"_other\">https://schema.org/Place/US_CA_06067</a></td><td class=typ>uri</td>\n",
       "<td class=val>0</td><td class=typ>literal, none</td>\n",
       "<td class=val>2020-12-01</td><td class=typ>literal, none</td>\n",
       "<td class=val>1527301</td><td class=typ>literal, none</td></tr><tr class=odd><td class=val><a href=\"https://schema.org/Place/US_NC_37183\" target=\"_other\">https://schema.org/Place/US_NC_37183</a></td><td class=typ>uri</td>\n",
       "<td class=val>0</td><td class=typ>literal, none</td>\n",
       "<td class=val>2020-12-01</td><td class=typ>literal, none</td>\n",
       "<td class=val>1071706</td><td class=typ>literal, none</td></tr><tr class=even><td class=val><a href=\"https://schema.org/Place/US_NY_36047\" target=\"_other\">https://schema.org/Place/US_NY_36047</a></td><td class=typ>uri</td>\n",
       "<td class=val>3</td><td class=typ>literal, none</td>\n",
       "<td class=val>2020-12-01</td><td class=typ>literal, none</td>\n",
       "<td class=val>2594676</td><td class=typ>literal, none</td></tr><tr class=odd><td class=val><a href=\"https://schema.org/Place/US_OH_39049\" target=\"_other\">https://schema.org/Place/US_OH_39049</a></td><td class=typ>uri</td>\n",
       "<td class=val>0</td><td class=typ>literal, none</td>\n",
       "<td class=val>2020-12-01</td><td class=typ>literal, none</td>\n",
       "<td class=val>1295510</td><td class=typ>literal, none</td></tr><tr class=even><td class=val><a href=\"https://schema.org/Place/US_CA_06013\" target=\"_other\">https://schema.org/Place/US_CA_06013</a></td><td class=typ>uri</td>\n",
       "<td class=val>0</td><td class=typ>literal, none</td>\n",
       "<td class=val>2020-12-01</td><td class=typ>literal, none</td>\n",
       "<td class=val>1145535</td><td class=typ>literal, none</td></tr><tr class=odd><td class=val><a href=\"https://schema.org/Place/US_AZ_04013\" target=\"_other\">https://schema.org/Place/US_AZ_04013</a></td><td class=typ>uri</td>\n",
       "<td class=val>3</td><td class=typ>literal, none</td>\n",
       "<td class=val>2020-12-01</td><td class=typ>literal, none</td>\n",
       "<td class=val>4327184</td><td class=typ>literal, none</td></tr><tr class=even><td class=val><a href=\"https://schema.org/Place/US_NV_32003\" target=\"_other\">https://schema.org/Place/US_NV_32003</a></td><td class=typ>uri</td>\n",
       "<td class=val>12</td><td class=typ>literal, none</td>\n",
       "<td class=val>2020-12-01</td><td class=typ>literal, none</td>\n",
       "<td class=val>2181635</td><td class=typ>literal, none</td></tr></table><div class=\"tinfo\">Total: 27, Shown: 20</div></div>"
      ]
     },
     "metadata": {},
     "output_type": "display_data"
    }
   ],
   "source": [
    "%display table withtypes\n",
    "PREFIX schema: <https://schema.org/>\n",
    "PREFIX covid:  <http://www.example.org/covid/>\n",
    "PREFIX xsd: <http://www.w3.org/2001/XMLSchema#>\n",
    "\n",
    "SELECT ?subregion2 ?new_deceased (STR(?date) AS ?Date) ?population\n",
    "WHERE{ ?subregion2 a schema:Place.\n",
    "        ?subregion2 schema:name ?region_name.\n",
    "        ?statistics covid:statisticsOf ?subregion2.\n",
    "        ?subregion2 covid:aggregationLevel \"2\"^^xsd:integer.\n",
    "        ?statistics covid:new_deceased ?new_deceased.\n",
    "        ?statistics covid:date ?date.\n",
    "        ?subregion2 covid:population ?population.\n",
    "        FILTER (?population > \"1000000\"^^xsd:integer).\n",
    "        FILTER regex(?region_name, \"^United States of America \").\n",
    "     }"
   ]
  },
  {
   "cell_type": "markdown",
   "metadata": {},
   "source": [
    "### Query 4\n",
    "All the countries having a number of total confirmed > 2 mln"
   ]
  },
  {
   "cell_type": "code",
   "execution_count": 5,
   "metadata": {},
   "outputs": [
    {
     "data": {
      "text/html": [
       "<div class=\"krn-spql\"><div class=\"magic\">Display: table<br/>Show Types: on</div></div>"
      ],
      "text/plain": [
       "Display: table\n",
       "Show Types: on\n"
      ]
     },
     "metadata": {},
     "output_type": "display_data"
    },
    {
     "data": {
      "text/html": [
       "<div class=\"krn-spql\"><table><tr class=hdr><th>country</th><th>type</th>\n",
       "<th>total_confirmed</th><th>type</th>\n",
       "<th>Date</th><th>type</th></tr><tr class=odd><td class=val><a href=\"https://schema.org/Place/FR\" target=\"_other\">https://schema.org/Place/FR</a></td><td class=typ>uri</td>\n",
       "<td class=val>2086288</td><td class=typ>literal, none</td>\n",
       "<td class=val>2020-11-21</td><td class=typ>literal, none</td></tr><tr class=even><td class=val><a href=\"https://schema.org/Place/US\" target=\"_other\">https://schema.org/Place/US</a></td><td class=typ>uri</td>\n",
       "<td class=val>13383321</td><td class=typ>literal, none</td>\n",
       "<td class=val>2020-12-01</td><td class=typ>literal, none</td></tr><tr class=odd><td class=val><a href=\"https://schema.org/Place/US\" target=\"_other\">https://schema.org/Place/US</a></td><td class=typ>uri</td>\n",
       "<td class=val>12591165</td><td class=typ>literal, none</td>\n",
       "<td class=val>2020-11-26</td><td class=typ>literal, none</td></tr><tr class=even><td class=val><a href=\"https://schema.org/Place/BR\" target=\"_other\">https://schema.org/Place/BR</a></td><td class=typ>uri</td>\n",
       "<td class=val>6118708</td><td class=typ>literal, none</td>\n",
       "<td class=val>2020-11-26</td><td class=typ>literal, none</td></tr><tr class=odd><td class=val><a href=\"https://schema.org/Place/BR\" target=\"_other\">https://schema.org/Place/BR</a></td><td class=typ>uri</td>\n",
       "<td class=val>5981767</td><td class=typ>literal, none</td>\n",
       "<td class=val>2020-11-21</td><td class=typ>literal, none</td></tr><tr class=even><td class=val><a href=\"https://schema.org/Place/RU\" target=\"_other\">https://schema.org/Place/RU</a></td><td class=typ>uri</td>\n",
       "<td class=val>2015608</td><td class=typ>literal, none</td>\n",
       "<td class=val>2020-11-21</td><td class=typ>literal, none</td></tr><tr class=odd><td class=val><a href=\"https://schema.org/Place/RU\" target=\"_other\">https://schema.org/Place/RU</a></td><td class=typ>uri</td>\n",
       "<td class=val>2162503</td><td class=typ>literal, none</td>\n",
       "<td class=val>2020-11-26</td><td class=typ>literal, none</td></tr></table><div class=\"tinfo\">Total: 7, Shown: 7</div></div>"
      ]
     },
     "metadata": {},
     "output_type": "display_data"
    }
   ],
   "source": [
    "%display table withtypes\n",
    "PREFIX schema: <https://schema.org/>\n",
    "PREFIX covid:  <http://www.example.org/covid/>\n",
    "PREFIX xsd: <http://www.w3.org/2001/XMLSchema#>\n",
    "\n",
    "SELECT ?country ?total_confirmed (STR(?date) AS ?Date)\n",
    "WHERE{ ?country a schema:Place.\n",
    "        ?statistics covid:statisticsOf ?country.\n",
    "        ?statistics covid:date ?date.\n",
    "        ?country covid:aggregationLevel \"0\"^^xsd:integer.\n",
    "        ?statistics covid:total_confirmed ?total_confirmed.\n",
    "        FILTER (?total_confirmed > \"2000000\"^^xsd:integer).\n",
    "     }"
   ]
  },
  {
   "cell_type": "markdown",
   "metadata": {},
   "source": [
    "### Query 5\n",
    "New deceased and new confirmed of all the countries having a min temp<-10° or a max temp>+35°\n"
   ]
  },
  {
   "cell_type": "code",
   "execution_count": 6,
   "metadata": {},
   "outputs": [
    {
     "data": {
      "text/html": [
       "<div class=\"krn-spql\"><div class=\"magic\">Display: table<br/>Show Types: on</div></div>"
      ],
      "text/plain": [
       "Display: table\n",
       "Show Types: on\n"
      ]
     },
     "metadata": {},
     "output_type": "display_data"
    },
    {
     "data": {
      "text/html": [
       "<div class=\"krn-spql\"><table><tr class=hdr><th>country</th><th>type</th>\n",
       "<th>new_deceased</th><th>type</th>\n",
       "<th>new_confirmed</th><th>type</th>\n",
       "<th>Date</th><th>type</th>\n",
       "<th>max_temp</th><th>type</th>\n",
       "<th>min_temp</th><th>type</th></tr><tr class=odd><td class=val><a href=\"https://schema.org/Place/CN\" target=\"_other\">https://schema.org/Place/CN</a></td><td class=typ>uri</td>\n",
       "<td class=val>0</td><td class=typ>literal, none</td>\n",
       "<td class=val>100</td><td class=typ>literal, none</td>\n",
       "<td class=val>2020-12-01</td><td class=typ>literal, none</td>\n",
       "<td class=val>-3.191358</td><td class=typ>literal, none</td>\n",
       "<td class=val>-12.481481</td><td class=typ>literal, none</td></tr><tr class=even><td class=val><a href=\"https://schema.org/Place/TG\" target=\"_other\">https://schema.org/Place/TG</a></td><td class=typ>uri</td>\n",
       "<td class=val>0</td><td class=typ>literal, none</td>\n",
       "<td class=val>18</td><td class=typ>literal, none</td>\n",
       "<td class=val>2020-11-26</td><td class=typ>literal, none</td>\n",
       "<td class=val>35.092593</td><td class=typ>literal, none</td>\n",
       "<td class=val>22.611111</td><td class=typ>literal, none</td></tr><tr class=odd><td class=val><a href=\"https://schema.org/Place/TH\" target=\"_other\">https://schema.org/Place/TH</a></td><td class=typ>uri</td>\n",
       "<td class=val>0</td><td class=typ>literal, none</td>\n",
       "<td class=val>6</td><td class=typ>literal, none</td>\n",
       "<td class=val>2020-11-26</td><td class=typ>literal, none</td>\n",
       "<td class=val>35.283333</td><td class=typ>literal, none</td>\n",
       "<td class=val>24.938889</td><td class=typ>literal, none</td></tr><tr class=even><td class=val><a href=\"https://schema.org/Place/CA\" target=\"_other\">https://schema.org/Place/CA</a></td><td class=typ>uri</td>\n",
       "<td class=val>79</td><td class=typ>literal, none</td>\n",
       "<td class=val>4642</td><td class=typ>literal, none</td>\n",
       "<td class=val>2020-11-21</td><td class=typ>literal, none</td>\n",
       "<td class=val>-6.594444</td><td class=typ>literal, none</td>\n",
       "<td class=val>-11.983333</td><td class=typ>literal, none</td></tr><tr class=odd><td class=val><a href=\"https://schema.org/Place/RU\" target=\"_other\">https://schema.org/Place/RU</a></td><td class=typ>uri</td>\n",
       "<td class=val>463</td><td class=typ>literal, none</td>\n",
       "<td class=val>23610</td><td class=typ>literal, none</td>\n",
       "<td class=val>2020-11-21</td><td class=typ>literal, none</td>\n",
       "<td class=val>-15.648148</td><td class=typ>literal, none</td>\n",
       "<td class=val>-23.518519</td><td class=typ>literal, none</td></tr><tr class=even><td class=val><a href=\"https://schema.org/Place/RU\" target=\"_other\">https://schema.org/Place/RU</a></td><td class=typ>uri</td>\n",
       "<td class=val>507</td><td class=typ>literal, none</td>\n",
       "<td class=val>23675</td><td class=typ>literal, none</td>\n",
       "<td class=val>2020-11-26</td><td class=typ>literal, none</td>\n",
       "<td class=val>-10.351852</td><td class=typ>literal, none</td>\n",
       "<td class=val>-19.37037</td><td class=typ>literal, none</td></tr></table><div class=\"tinfo\">Total: 6, Shown: 6</div></div>"
      ]
     },
     "metadata": {},
     "output_type": "display_data"
    }
   ],
   "source": [
    "%display table withtypes\n",
    "PREFIX schema: <https://schema.org/>\n",
    "PREFIX covid:  <http://www.example.org/covid/>\n",
    "PREFIX xsd: <http://www.w3.org/2001/XMLSchema#>\n",
    "\n",
    "\n",
    "SELECT ?country ?new_deceased ?new_confirmed (STR(?date) AS ?Date) ?max_temp ?min_temp\n",
    "WHERE{ ?country a schema:Place.\n",
    "        ?statistics covid:statisticsOf ?country.\n",
    "        ?country covid:aggregationLevel \"0\"^^xsd:integer.\n",
    "        ?statistics covid:new_deceased ?new_deceased.\n",
    "        ?statistics covid:new_confirmed ?new_confirmed.\n",
    "        ?statistics covid:date ?date.\n",
    "        ?weather covid:weatherOf ?country.\n",
    "        ?weather covid:date ?date.\n",
    "        ?weather covid:min_temp ?min_temp.\n",
    "        ?weather covid:max_temp ?max_temp.\n",
    "        FILTER (?max_temp > \"35\"^^xsd:decimal || ?min_temp < \"-10\"^^xsd:decimal).\n",
    "     }\n"
   ]
  },
  {
   "cell_type": "code",
   "execution_count": null,
   "metadata": {},
   "outputs": [],
   "source": []
  }
 ],
 "metadata": {
  "kernelspec": {
   "display_name": "SPARQL",
   "language": "sparql",
   "name": "sparql"
  },
  "language_info": {
   "codemirror_mode": {
    "name": "sparql"
   },
   "mimetype": "application/sparql-query",
   "name": "sparql",
   "pygments_lexer": "sparql-nb"
  }
 },
 "nbformat": 4,
 "nbformat_minor": 2
}
